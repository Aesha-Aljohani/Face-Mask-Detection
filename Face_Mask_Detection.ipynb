{
  "cells": [
    {
      "cell_type": "markdown",
      "source": [
        "Face Mask Detection"
      ],
      "metadata": {
        "id": "IKAmg8RQ4VaZ"
      }
    },
    {
      "cell_type": "markdown",
      "source": [
        "By: Avengers"
      ],
      "metadata": {
        "id": "fSBVKKaX4hM2"
      }
    },
    {
      "cell_type": "code",
      "execution_count": null,
      "metadata": {
        "id": "lHrX4Lh0nmMi"
      },
      "outputs": [],
      "source": [
        "import os \n",
        "import pathlib \n",
        "import numpy as np\n",
        "import pandas as pd\n",
        "import matplotlib.pyplot as plt \n",
        "import matplotlib.image as mpimg\n",
        "import random\n",
        "import cv2\n",
        "import tensorflow as tf\n",
        "from sklearn.model_selection import train_test_split\n",
        "from tensorflow.keras.models import Sequential\n",
        "from tensorflow.keras.models import Model\n",
        "from tensorflow.keras.layers import Dense, Activation, Conv2D, MaxPool2D, Flatten, Dropout, BatchNormalization\n",
        "from tensorflow.keras.callbacks import EarlyStopping\n",
        "\n",
        "from google.colab import files\n",
        "from sklearn.metrics import classification_report,confusion_matrix"
      ]
    },
    {
      "cell_type": "markdown",
      "metadata": {
        "id": "XPTmwsFwIA7T"
      },
      "source": [
        "# Part 1"
      ]
    },
    {
      "cell_type": "markdown",
      "metadata": {
        "id": "jEW0QD0jIDm7"
      },
      "source": [
        "**Creating a MobileNet model to detect the face masks**"
      ]
    },
    {
      "cell_type": "markdown",
      "source": [
        "# Uploading the dataset from Kaggle"
      ],
      "metadata": {
        "id": "6eB_vVtzlhpy"
      }
    },
    {
      "cell_type": "code",
      "execution_count": null,
      "metadata": {
        "colab": {
          "base_uri": "https://localhost:8080/",
          "height": 365
        },
        "id": "p3J5dFWBnpMi",
        "outputId": "0fcee905-b87f-44d4-b382-dad1eef9a9b4"
      },
      "outputs": [
        {
          "data": {
            "text/html": [
              "\n",
              "     <input type=\"file\" id=\"files-c77a21ca-83a5-4754-94b9-5784d662439a\" name=\"files[]\" multiple disabled\n",
              "        style=\"border:none\" />\n",
              "     <output id=\"result-c77a21ca-83a5-4754-94b9-5784d662439a\">\n",
              "      Upload widget is only available when the cell has been executed in the\n",
              "      current browser session. Please rerun this cell to enable.\n",
              "      </output>\n",
              "      <script>// Copyright 2017 Google LLC\n",
              "//\n",
              "// Licensed under the Apache License, Version 2.0 (the \"License\");\n",
              "// you may not use this file except in compliance with the License.\n",
              "// You may obtain a copy of the License at\n",
              "//\n",
              "//      http://www.apache.org/licenses/LICENSE-2.0\n",
              "//\n",
              "// Unless required by applicable law or agreed to in writing, software\n",
              "// distributed under the License is distributed on an \"AS IS\" BASIS,\n",
              "// WITHOUT WARRANTIES OR CONDITIONS OF ANY KIND, either express or implied.\n",
              "// See the License for the specific language governing permissions and\n",
              "// limitations under the License.\n",
              "\n",
              "/**\n",
              " * @fileoverview Helpers for google.colab Python module.\n",
              " */\n",
              "(function(scope) {\n",
              "function span(text, styleAttributes = {}) {\n",
              "  const element = document.createElement('span');\n",
              "  element.textContent = text;\n",
              "  for (const key of Object.keys(styleAttributes)) {\n",
              "    element.style[key] = styleAttributes[key];\n",
              "  }\n",
              "  return element;\n",
              "}\n",
              "\n",
              "// Max number of bytes which will be uploaded at a time.\n",
              "const MAX_PAYLOAD_SIZE = 100 * 1024;\n",
              "\n",
              "function _uploadFiles(inputId, outputId) {\n",
              "  const steps = uploadFilesStep(inputId, outputId);\n",
              "  const outputElement = document.getElementById(outputId);\n",
              "  // Cache steps on the outputElement to make it available for the next call\n",
              "  // to uploadFilesContinue from Python.\n",
              "  outputElement.steps = steps;\n",
              "\n",
              "  return _uploadFilesContinue(outputId);\n",
              "}\n",
              "\n",
              "// This is roughly an async generator (not supported in the browser yet),\n",
              "// where there are multiple asynchronous steps and the Python side is going\n",
              "// to poll for completion of each step.\n",
              "// This uses a Promise to block the python side on completion of each step,\n",
              "// then passes the result of the previous step as the input to the next step.\n",
              "function _uploadFilesContinue(outputId) {\n",
              "  const outputElement = document.getElementById(outputId);\n",
              "  const steps = outputElement.steps;\n",
              "\n",
              "  const next = steps.next(outputElement.lastPromiseValue);\n",
              "  return Promise.resolve(next.value.promise).then((value) => {\n",
              "    // Cache the last promise value to make it available to the next\n",
              "    // step of the generator.\n",
              "    outputElement.lastPromiseValue = value;\n",
              "    return next.value.response;\n",
              "  });\n",
              "}\n",
              "\n",
              "/**\n",
              " * Generator function which is called between each async step of the upload\n",
              " * process.\n",
              " * @param {string} inputId Element ID of the input file picker element.\n",
              " * @param {string} outputId Element ID of the output display.\n",
              " * @return {!Iterable<!Object>} Iterable of next steps.\n",
              " */\n",
              "function* uploadFilesStep(inputId, outputId) {\n",
              "  const inputElement = document.getElementById(inputId);\n",
              "  inputElement.disabled = false;\n",
              "\n",
              "  const outputElement = document.getElementById(outputId);\n",
              "  outputElement.innerHTML = '';\n",
              "\n",
              "  const pickedPromise = new Promise((resolve) => {\n",
              "    inputElement.addEventListener('change', (e) => {\n",
              "      resolve(e.target.files);\n",
              "    });\n",
              "  });\n",
              "\n",
              "  const cancel = document.createElement('button');\n",
              "  inputElement.parentElement.appendChild(cancel);\n",
              "  cancel.textContent = 'Cancel upload';\n",
              "  const cancelPromise = new Promise((resolve) => {\n",
              "    cancel.onclick = () => {\n",
              "      resolve(null);\n",
              "    };\n",
              "  });\n",
              "\n",
              "  // Wait for the user to pick the files.\n",
              "  const files = yield {\n",
              "    promise: Promise.race([pickedPromise, cancelPromise]),\n",
              "    response: {\n",
              "      action: 'starting',\n",
              "    }\n",
              "  };\n",
              "\n",
              "  cancel.remove();\n",
              "\n",
              "  // Disable the input element since further picks are not allowed.\n",
              "  inputElement.disabled = true;\n",
              "\n",
              "  if (!files) {\n",
              "    return {\n",
              "      response: {\n",
              "        action: 'complete',\n",
              "      }\n",
              "    };\n",
              "  }\n",
              "\n",
              "  for (const file of files) {\n",
              "    const li = document.createElement('li');\n",
              "    li.append(span(file.name, {fontWeight: 'bold'}));\n",
              "    li.append(span(\n",
              "        `(${file.type || 'n/a'}) - ${file.size} bytes, ` +\n",
              "        `last modified: ${\n",
              "            file.lastModifiedDate ? file.lastModifiedDate.toLocaleDateString() :\n",
              "                                    'n/a'} - `));\n",
              "    const percent = span('0% done');\n",
              "    li.appendChild(percent);\n",
              "\n",
              "    outputElement.appendChild(li);\n",
              "\n",
              "    const fileDataPromise = new Promise((resolve) => {\n",
              "      const reader = new FileReader();\n",
              "      reader.onload = (e) => {\n",
              "        resolve(e.target.result);\n",
              "      };\n",
              "      reader.readAsArrayBuffer(file);\n",
              "    });\n",
              "    // Wait for the data to be ready.\n",
              "    let fileData = yield {\n",
              "      promise: fileDataPromise,\n",
              "      response: {\n",
              "        action: 'continue',\n",
              "      }\n",
              "    };\n",
              "\n",
              "    // Use a chunked sending to avoid message size limits. See b/62115660.\n",
              "    let position = 0;\n",
              "    do {\n",
              "      const length = Math.min(fileData.byteLength - position, MAX_PAYLOAD_SIZE);\n",
              "      const chunk = new Uint8Array(fileData, position, length);\n",
              "      position += length;\n",
              "\n",
              "      const base64 = btoa(String.fromCharCode.apply(null, chunk));\n",
              "      yield {\n",
              "        response: {\n",
              "          action: 'append',\n",
              "          file: file.name,\n",
              "          data: base64,\n",
              "        },\n",
              "      };\n",
              "\n",
              "      let percentDone = fileData.byteLength === 0 ?\n",
              "          100 :\n",
              "          Math.round((position / fileData.byteLength) * 100);\n",
              "      percent.textContent = `${percentDone}% done`;\n",
              "\n",
              "    } while (position < fileData.byteLength);\n",
              "  }\n",
              "\n",
              "  // All done.\n",
              "  yield {\n",
              "    response: {\n",
              "      action: 'complete',\n",
              "    }\n",
              "  };\n",
              "}\n",
              "\n",
              "scope.google = scope.google || {};\n",
              "scope.google.colab = scope.google.colab || {};\n",
              "scope.google.colab._files = {\n",
              "  _uploadFiles,\n",
              "  _uploadFilesContinue,\n",
              "};\n",
              "})(self);\n",
              "</script> "
            ],
            "text/plain": [
              "<IPython.core.display.HTML object>"
            ]
          },
          "metadata": {},
          "output_type": "display_data"
        },
        {
          "ename": "TypeError",
          "evalue": "ignored",
          "output_type": "error",
          "traceback": [
            "\u001b[0;31m---------------------------------------------------------------------------\u001b[0m",
            "\u001b[0;31mTypeError\u001b[0m                                 Traceback (most recent call last)",
            "\u001b[0;32m<ipython-input-2-f153bedb80fa>\u001b[0m in \u001b[0;36m<module>\u001b[0;34m\u001b[0m\n\u001b[1;32m      1\u001b[0m \u001b[0;31m#Upload the API token file from kaggle account to rech the dataset\u001b[0m\u001b[0;34m\u001b[0m\u001b[0;34m\u001b[0m\u001b[0;34m\u001b[0m\u001b[0m\n\u001b[0;32m----> 2\u001b[0;31m \u001b[0mfiles\u001b[0m\u001b[0;34m.\u001b[0m\u001b[0mupload\u001b[0m\u001b[0;34m(\u001b[0m\u001b[0;34m)\u001b[0m\u001b[0;34m\u001b[0m\u001b[0;34m\u001b[0m\u001b[0m\n\u001b[0m",
            "\u001b[0;32m/usr/local/lib/python3.7/dist-packages/google/colab/files.py\u001b[0m in \u001b[0;36mupload\u001b[0;34m()\u001b[0m\n\u001b[1;32m     65\u001b[0m   \"\"\"\n\u001b[1;32m     66\u001b[0m \u001b[0;34m\u001b[0m\u001b[0m\n\u001b[0;32m---> 67\u001b[0;31m   \u001b[0muploaded_files\u001b[0m \u001b[0;34m=\u001b[0m \u001b[0m_upload_files\u001b[0m\u001b[0;34m(\u001b[0m\u001b[0mmultiple\u001b[0m\u001b[0;34m=\u001b[0m\u001b[0;32mTrue\u001b[0m\u001b[0;34m)\u001b[0m\u001b[0;34m\u001b[0m\u001b[0;34m\u001b[0m\u001b[0m\n\u001b[0m\u001b[1;32m     68\u001b[0m   \u001b[0;31m# Mapping from original filename to filename as saved locally.\u001b[0m\u001b[0;34m\u001b[0m\u001b[0;34m\u001b[0m\u001b[0;34m\u001b[0m\u001b[0m\n\u001b[1;32m     69\u001b[0m   \u001b[0mlocal_filenames\u001b[0m \u001b[0;34m=\u001b[0m \u001b[0mdict\u001b[0m\u001b[0;34m(\u001b[0m\u001b[0;34m)\u001b[0m\u001b[0;34m\u001b[0m\u001b[0;34m\u001b[0m\u001b[0m\n",
            "\u001b[0;32m/usr/local/lib/python3.7/dist-packages/google/colab/files.py\u001b[0m in \u001b[0;36m_upload_files\u001b[0;34m(multiple)\u001b[0m\n\u001b[1;32m    147\u001b[0m   \u001b[0mfiles\u001b[0m \u001b[0;34m=\u001b[0m \u001b[0m_collections\u001b[0m\u001b[0;34m.\u001b[0m\u001b[0mdefaultdict\u001b[0m\u001b[0;34m(\u001b[0m\u001b[0mbytes\u001b[0m\u001b[0;34m)\u001b[0m\u001b[0;34m\u001b[0m\u001b[0;34m\u001b[0m\u001b[0m\n\u001b[1;32m    148\u001b[0m \u001b[0;34m\u001b[0m\u001b[0m\n\u001b[0;32m--> 149\u001b[0;31m   \u001b[0;32mwhile\u001b[0m \u001b[0mresult\u001b[0m\u001b[0;34m[\u001b[0m\u001b[0;34m'action'\u001b[0m\u001b[0;34m]\u001b[0m \u001b[0;34m!=\u001b[0m \u001b[0;34m'complete'\u001b[0m\u001b[0;34m:\u001b[0m\u001b[0;34m\u001b[0m\u001b[0;34m\u001b[0m\u001b[0m\n\u001b[0m\u001b[1;32m    150\u001b[0m     result = _output.eval_js(\n\u001b[1;32m    151\u001b[0m         'google.colab._files._uploadFilesContinue(\"{output_id}\")'.format(\n",
            "\u001b[0;31mTypeError\u001b[0m: 'NoneType' object is not subscriptable"
          ]
        }
      ],
      "source": [
        "#Upload the API token file from kaggle account to rech the dataset\n",
        "files.upload()"
      ]
    },
    {
      "cell_type": "code",
      "execution_count": null,
      "metadata": {
        "id": "M6gQKpALn57m"
      },
      "outputs": [],
      "source": [
        "os.environ[\"KAGGLE_CONFIG_DIR\"] = \"/content\""
      ]
    },
    {
      "cell_type": "code",
      "execution_count": null,
      "metadata": {
        "id": "9gAyOKL4n832"
      },
      "outputs": [],
      "source": [
        "#The API command for the dataset in kaggle\n",
        "!kaggle datasets download -d prithwirajmitra/covid-face-mask-detection-dataset"
      ]
    },
    {
      "cell_type": "code",
      "execution_count": null,
      "metadata": {
        "id": "sXw2nzJuoGAx"
      },
      "outputs": [],
      "source": [
        "#We use this code to unzip the dataset images files\n",
        "!unzip \\*.zip"
      ]
    },
    {
      "cell_type": "code",
      "execution_count": null,
      "metadata": {
        "id": "du3Ir3d3odiu"
      },
      "outputs": [],
      "source": [
        "#This code is used to see all the dataset files and make sure it's readable.\n",
        "for dirpath,dirnames,filenames in os.walk(\"/content/New Masks Dataset\"):\n",
        "    print(f\"there are {len(dirnames)} directories and {len(filenames)} images in '{dirpath}'.\")"
      ]
    },
    {
      "cell_type": "markdown",
      "source": [
        "# Read & print the images"
      ],
      "metadata": {
        "id": "bLin4aXhmUHH"
      }
    },
    {
      "cell_type": "code",
      "execution_count": null,
      "metadata": {
        "id": "jI1ZaYRZrIG4"
      },
      "outputs": [],
      "source": [
        "def view_image(target_dir, target_class):\n",
        "    target_folder = target_dir+target_class\n",
        "    random_image = random.sample(os.listdir(target_folder),1)\n",
        "    print(random_image)\n",
        "    img = mpimg.imread(target_folder+\"/\"+ random_image[0])\n",
        "    plt.imshow(img)\n",
        "    plt.title(target_class)\n",
        "    plt.axis(\"off\")\n",
        "    print(f\"image shape {img.shape}\")\n",
        "    \n",
        "    return img"
      ]
    },
    {
      "cell_type": "code",
      "execution_count": null,
      "metadata": {
        "colab": {
          "base_uri": "https://localhost:8080/",
          "height": 308
        },
        "id": "0qJiOvEGrXSd",
        "outputId": "77b53913-18c9-4afe-a48d-371a26249326"
      },
      "outputs": [
        {
          "name": "stdout",
          "output_type": "stream",
          "text": [
            "['22.jpg']\n",
            "image shape (494, 441, 3)\n"
          ]
        },
        {
          "data": {
            "image/png": "[encoded data removed]",
            "text/plain": [
              "<Figure size 432x288 with 1 Axes>"
            ]
          },
          "metadata": {},
          "output_type": "display_data"
        }
      ],
      "source": [
        "#Using the view image function we randomly print an image from the non-mask file\n",
        "img = view_image(\"/content/New Masks Dataset/Train/\",\"Non Mask\")"
      ]
    },
    {
      "cell_type": "code",
      "execution_count": null,
      "metadata": {
        "colab": {
          "base_uri": "https://localhost:8080/",
          "height": 308
        },
        "id": "mvX77wojrY02",
        "outputId": "4e53dc53-a94c-4d28-e1c3-09151a450a12"
      },
      "outputs": [
        {
          "name": "stdout",
          "output_type": "stream",
          "text": [
            "['1340.jpg']\n",
            "image shape (900, 598, 3)\n"
          ]
        },
        {
          "data": {
            "image/png": "[encoded data removed]",
            "text/plain": [
              "<Figure size 432x288 with 1 Axes>"
            ]
          },
          "metadata": {},
          "output_type": "display_data"
        }
      ],
      "source": [
        "#Using the view image function we randomly print an image from the mask file\n",
        "img = view_image(\"/content/New Masks Dataset/Train/\",\"Mask\")"
      ]
    },
    {
      "cell_type": "code",
      "execution_count": null,
      "metadata": {
        "id": "c0NmFw4Rryul"
      },
      "outputs": [],
      "source": [
        "#Read the data \n",
        "#Two lists are created: one for images and one for labels\n",
        "#Using Non-Mask file\n",
        "data=[]\n",
        "labels=[]\n",
        "no_mask=os.listdir(\"/content/New Masks Dataset/Train/Non Mask/\")\n",
        "for a in no_mask:\n",
        "\n",
        "    image = cv2.imread(\"/content/New Masks Dataset/Train/Non Mask/\"+a,)\n",
        "    image = cv2.resize(image, (224, 224))\n",
        "\n",
        "\n",
        "    data.append(image)\n",
        "    labels.append(0)\n",
        "\n",
        "no_mask=os.listdir(\"/content/New Masks Dataset/Test/Non Mask/\")\n",
        "for a in no_mask:\n",
        "\n",
        "    image = cv2.imread(\"/content/New Masks Dataset/Test/Non Mask/\"+a,)\n",
        "    image = cv2.resize(image, (224, 224))\n",
        "\n",
        "\n",
        "    data.append(image)\n",
        "    labels.append(0)"
      ]
    },
    {
      "cell_type": "code",
      "execution_count": null,
      "metadata": {
        "id": "bVEQfRyYsBDc"
      },
      "outputs": [],
      "source": [
        "#Read the data \n",
        "#Two lists are created: one for images and one for labels\n",
        "#Using Mask file\n",
        "mask=os.listdir(\"/content/New Masks Dataset/Train/Mask/\")\n",
        "for a in mask:\n",
        "\n",
        "    image = cv2.imread(\"/content/New Masks Dataset/Train/Mask/\"+a,)\n",
        "    image = cv2.resize(image, (224, 224))\n",
        "\n",
        "\n",
        "    data.append(image)\n",
        "    labels.append(1)\n",
        "\n",
        "\n",
        "mask=os.listdir(\"/content/New Masks Dataset/Test/Mask/\")\n",
        "for a in mask:\n",
        "\n",
        "    image = cv2.imread(\"/content/New Masks Dataset/Test/Mask/\"+a,)\n",
        "    image = cv2.resize(image, (224, 224))\n",
        "\n",
        "\n",
        "    data.append(image)\n",
        "    labels.append(1)"
      ]
    },
    {
      "cell_type": "code",
      "execution_count": null,
      "metadata": {
        "id": "7txWi1GpuLm9"
      },
      "outputs": [],
      "source": [
        "#Convert the list of images and labels into numpy array\n",
        "#Divide the images by 255 to scale them\n",
        "data = np.array(data) / 255.0\n",
        "labels = np.array(labels)"
      ]
    },
    {
      "cell_type": "code",
      "execution_count": null,
      "metadata": {
        "colab": {
          "base_uri": "https://localhost:8080/"
        },
        "id": "s5t-7KT-uqON",
        "outputId": "7574f6c7-d4c6-41cf-a6d4-2a11e8167101"
      },
      "outputs": [
        {
          "data": {
            "text/plain": [
              "(700, 224, 224, 3)"
            ]
          },
          "execution_count": 25,
          "metadata": {},
          "output_type": "execute_result"
        }
      ],
      "source": [
        "data.shape"
      ]
    },
    {
      "cell_type": "markdown",
      "source": [
        "# Creating the MobileNet model"
      ],
      "metadata": {
        "id": "P8JJw3HXmmC7"
      }
    },
    {
      "cell_type": "code",
      "execution_count": null,
      "metadata": {
        "id": "zfx7TkCLurSc"
      },
      "outputs": [],
      "source": [
        "X_train, X_test, y_train, y_test = train_test_split(data, labels, test_size=0.2, random_state=42,shuffle=True,\n",
        "                                                    stratify = labels)"
      ]
    },
    {
      "cell_type": "code",
      "execution_count": null,
      "metadata": {
        "id": "n-PEWiW3uy3P"
      },
      "outputs": [],
      "source": [
        "#Transfer learning \n",
        "#We apply MobileNet to train the model\n",
        "base_model = tf.keras.applications.MobileNet(input_shape=[224,224,3], weights = \"imagenet\", include_top=False)\n",
        "\n",
        "base_model.trainable = False\n",
        "\n",
        "for layer in base_model.layers[30:]:\n",
        "  layer.trainable = False\n",
        "    \n",
        "\n",
        "model = Flatten()(base_model.output)\n",
        "model = Dense(units=256, activation=\"relu\")(model)\n",
        "model = Dense(units=64, activation=\"relu\")(model)\n",
        "prediction_layer = Dense(units=1, activation=\"sigmoid\")(model)\n",
        "\n",
        "model = Model(inputs = base_model.input, outputs = prediction_layer)\n",
        "model.compile(optimizer='SGD',loss='binary_crossentropy',metrics=['accuracy'])"
      ]
    },
    {
      "cell_type": "code",
      "execution_count": null,
      "metadata": {
        "colab": {
          "base_uri": "https://localhost:8080/",
          "height": 578
        },
        "id": "naXTtvkxvZ_l",
        "outputId": "3381add3-6a3b-4b3f-9af0-8abf47e88bb8"
      },
      "outputs": [
        {
          "output_type": "error",
          "ename": "ValueError",
          "evalue": "ignored",
          "traceback": [
            "\u001b[0;31m---------------------------------------------------------------------------\u001b[0m",
            "\u001b[0;31mValueError\u001b[0m                                Traceback (most recent call last)",
            "\u001b[0;32m<ipython-input-17-ca3777d1c934>\u001b[0m in \u001b[0;36m<module>\u001b[0;34m\u001b[0m\n\u001b[1;32m      1\u001b[0m \u001b[0;32mwith\u001b[0m \u001b[0mtf\u001b[0m\u001b[0;34m.\u001b[0m\u001b[0mdevice\u001b[0m\u001b[0;34m(\u001b[0m\u001b[0;34m'/GPU:0'\u001b[0m\u001b[0;34m)\u001b[0m\u001b[0;34m:\u001b[0m\u001b[0;34m\u001b[0m\u001b[0;34m\u001b[0m\u001b[0m\n\u001b[0;32m----> 2\u001b[0;31m   \u001b[0mresults\u001b[0m \u001b[0;34m=\u001b[0m \u001b[0mmodel\u001b[0m\u001b[0;34m.\u001b[0m\u001b[0mfit\u001b[0m\u001b[0;34m(\u001b[0m\u001b[0mX_train\u001b[0m\u001b[0;34m,\u001b[0m \u001b[0my_train\u001b[0m\u001b[0;34m,\u001b[0m \u001b[0mepochs\u001b[0m\u001b[0;34m=\u001b[0m\u001b[0;36m10\u001b[0m\u001b[0;34m,\u001b[0m \u001b[0mvalidation_split\u001b[0m\u001b[0;34m=\u001b[0m \u001b[0;36m0.1\u001b[0m\u001b[0;34m,\u001b[0m \u001b[0mbatch_size\u001b[0m\u001b[0;34m=\u001b[0m\u001b[0;36m32\u001b[0m\u001b[0;34m)\u001b[0m\u001b[0;34m\u001b[0m\u001b[0;34m\u001b[0m\u001b[0m\n\u001b[0m",
            "\u001b[0;32m/usr/local/lib/python3.7/dist-packages/keras/utils/traceback_utils.py\u001b[0m in \u001b[0;36merror_handler\u001b[0;34m(*args, **kwargs)\u001b[0m\n\u001b[1;32m     65\u001b[0m     \u001b[0;32mexcept\u001b[0m \u001b[0mException\u001b[0m \u001b[0;32mas\u001b[0m \u001b[0me\u001b[0m\u001b[0;34m:\u001b[0m  \u001b[0;31m# pylint: disable=broad-except\u001b[0m\u001b[0;34m\u001b[0m\u001b[0;34m\u001b[0m\u001b[0m\n\u001b[1;32m     66\u001b[0m       \u001b[0mfiltered_tb\u001b[0m \u001b[0;34m=\u001b[0m \u001b[0m_process_traceback_frames\u001b[0m\u001b[0;34m(\u001b[0m\u001b[0me\u001b[0m\u001b[0;34m.\u001b[0m\u001b[0m__traceback__\u001b[0m\u001b[0;34m)\u001b[0m\u001b[0;34m\u001b[0m\u001b[0;34m\u001b[0m\u001b[0m\n\u001b[0;32m---> 67\u001b[0;31m       \u001b[0;32mraise\u001b[0m \u001b[0me\u001b[0m\u001b[0;34m.\u001b[0m\u001b[0mwith_traceback\u001b[0m\u001b[0;34m(\u001b[0m\u001b[0mfiltered_tb\u001b[0m\u001b[0;34m)\u001b[0m \u001b[0;32mfrom\u001b[0m \u001b[0;32mNone\u001b[0m\u001b[0;34m\u001b[0m\u001b[0;34m\u001b[0m\u001b[0m\n\u001b[0m\u001b[1;32m     68\u001b[0m     \u001b[0;32mfinally\u001b[0m\u001b[0;34m:\u001b[0m\u001b[0;34m\u001b[0m\u001b[0;34m\u001b[0m\u001b[0m\n\u001b[1;32m     69\u001b[0m       \u001b[0;32mdel\u001b[0m \u001b[0mfiltered_tb\u001b[0m\u001b[0;34m\u001b[0m\u001b[0;34m\u001b[0m\u001b[0m\n",
            "\u001b[0;32m/usr/local/lib/python3.7/dist-packages/keras/engine/data_adapter.py\u001b[0m in \u001b[0;36mtrain_validation_split\u001b[0;34m(arrays, validation_split)\u001b[0m\n\u001b[1;32m   1480\u001b[0m     raise ValueError(\n\u001b[1;32m   1481\u001b[0m         \u001b[0;34m\"`validation_split` is only supported for Tensors or NumPy \"\u001b[0m\u001b[0;34m\u001b[0m\u001b[0;34m\u001b[0m\u001b[0m\n\u001b[0;32m-> 1482\u001b[0;31m         \"arrays, found following types in the input: {}\".format(unsplitable))\n\u001b[0m\u001b[1;32m   1483\u001b[0m \u001b[0;34m\u001b[0m\u001b[0m\n\u001b[1;32m   1484\u001b[0m   \u001b[0;32mif\u001b[0m \u001b[0mall\u001b[0m\u001b[0;34m(\u001b[0m\u001b[0mt\u001b[0m \u001b[0;32mis\u001b[0m \u001b[0;32mNone\u001b[0m \u001b[0;32mfor\u001b[0m \u001b[0mt\u001b[0m \u001b[0;32min\u001b[0m \u001b[0mflat_arrays\u001b[0m\u001b[0;34m)\u001b[0m\u001b[0;34m:\u001b[0m\u001b[0;34m\u001b[0m\u001b[0;34m\u001b[0m\u001b[0m\n",
            "\u001b[0;31mValueError\u001b[0m: `validation_split` is only supported for Tensors or NumPy arrays, found following types in the input: [<class 'int'>, <class 'int'>, <class 'int'>, <class 'int'>, <class 'int'>, <class 'int'>, <class 'int'>, <class 'int'>, <class 'int'>, <class 'int'>, <class 'int'>, <class 'int'>, <class 'int'>, <class 'int'>, <class 'int'>, <class 'int'>, <class 'int'>, <class 'int'>, <class 'int'>, <class 'int'>, <class 'int'>, <class 'int'>, <class 'int'>, <class 'int'>, <class 'int'>, <class 'int'>, <class 'int'>, <class 'int'>, <class 'int'>, <class 'int'>, <class 'int'>, <class 'int'>, <class 'int'>, <class 'int'>, <class 'int'>, <class 'int'>, <class 'int'>, <class 'int'>, <class 'int'>, <class 'int'>, <class 'int'>, <class 'int'>, <class 'int'>, <class 'int'>, <class 'int'>, <class 'int'>, <class 'int'>, <class 'int'>, <class 'int'>, <class 'int'>, <class 'int'>, <class 'int'>, <class 'int'>, <class 'int'>, <class 'int'>, <class 'int'>, <class 'int'>, <class 'int'>, <class 'int'>, <class 'int'>, <class 'int'>, <class 'int'>, <class 'int'>, <class 'int'>, <class 'int'>, <class 'int'>, <class 'int'>, <class 'int'>, <class 'int'>, <class 'int'>, <class 'int'>, <class 'int'>, <class 'int'>, <class 'int'>, <class 'int'>, <class 'int'>, <class 'int'>, <class 'int'>, <class 'int'>, <class 'int'>, <class 'int'>, <class 'int'>, <class 'int'>, <class 'int'>, <class 'int'>, <class 'int'>, <class 'int'>, <class 'int'>, <class 'int'>, <class 'int'>, <class 'int'>, <class..."
          ]
        }
      ],
      "source": [
        "with tf.device('/GPU:0'):\n",
        "  results = model.fit(X_train, y_train, epochs=10, validation_split= 0.1, batch_size=32)"
      ]
    },
    {
      "cell_type": "code",
      "execution_count": null,
      "metadata": {
        "colab": {
          "base_uri": "https://localhost:8080/"
        },
        "id": "abK8H0sQwoPd",
        "outputId": "c41a1a43-893a-4f5a-9773-eb0495656120"
      },
      "outputs": [
        {
          "data": {
            "text/plain": [
              "{'loss': [0.6203802227973938,\n",
              "  0.012514476664364338,\n",
              "  0.004328794777393341,\n",
              "  0.0028367461636662483,\n",
              "  0.0020828472916036844,\n",
              "  0.0016578210052102804,\n",
              "  0.001371814520098269,\n",
              "  0.0011755629675462842,\n",
              "  0.001019060262478888,\n",
              "  0.0009006730979308486],\n",
              " 'accuracy': [0.8650793433189392,\n",
              "  0.9980158805847168,\n",
              "  1.0,\n",
              "  1.0,\n",
              "  1.0,\n",
              "  1.0,\n",
              "  1.0,\n",
              "  1.0,\n",
              "  1.0,\n",
              "  1.0],\n",
              " 'val_loss': [0.0417877621948719,\n",
              "  0.03023483417928219,\n",
              "  0.029749521985650063,\n",
              "  0.024359315633773804,\n",
              "  0.023003606125712395,\n",
              "  0.022571073845028877,\n",
              "  0.02143763191998005,\n",
              "  0.02094285562634468,\n",
              "  0.020699921995401382,\n",
              "  0.020200442522764206],\n",
              " 'val_accuracy': [0.9821428656578064,\n",
              "  1.0,\n",
              "  0.9821428656578064,\n",
              "  1.0,\n",
              "  1.0,\n",
              "  1.0,\n",
              "  1.0,\n",
              "  1.0,\n",
              "  1.0,\n",
              "  1.0]}"
            ]
          },
          "execution_count": 29,
          "metadata": {},
          "output_type": "execute_result"
        }
      ],
      "source": [
        "# history from 10 epochs that were ran by a model (loss, accuracy, validation loss, validation accuracy)\n",
        "results.history"
      ]
    },
    {
      "cell_type": "code",
      "execution_count": null,
      "metadata": {
        "colab": {
          "base_uri": "https://localhost:8080/",
          "height": 296
        },
        "id": "wwOWNl0Zwo2X",
        "outputId": "449c724e-ac85-4550-9cb7-7004a1e9ab60"
      },
      "outputs": [
        {
          "data": {
            "image/png": "[encoded data removed]",
            "text/plain": [
              "<Figure size 432x288 with 1 Axes>"
            ]
          },
          "metadata": {},
          "output_type": "display_data"
        }
      ],
      "source": [
        "plt.plot(results.history['loss'])\n",
        "plt.plot(results.history['val_loss'])\n",
        "\n",
        "plt.title('Model Loss')\n",
        "plt.ylabel('Loss')\n",
        "plt.xlabel('Epoch')\n",
        "plt.legend(['Train', 'Test'], loc='upper left')\n",
        "plt.show();"
      ]
    },
    {
      "cell_type": "code",
      "execution_count": null,
      "metadata": {
        "colab": {
          "base_uri": "https://localhost:8080/",
          "height": 296
        },
        "id": "qJK8U1u_wreE",
        "outputId": "5c5b6ff1-fc2e-4812-b911-a9179992afcf"
      },
      "outputs": [
        {
          "data": {
            "image/png": "[encoded data removed]",
            "text/plain": [
              "<Figure size 432x288 with 1 Axes>"
            ]
          },
          "metadata": {},
          "output_type": "display_data"
        }
      ],
      "source": [
        "plt.plot(results.history['accuracy'])\n",
        "plt.plot(results.history['val_accuracy'])\n",
        "\n",
        "plt.title('Model Accuracy')\n",
        "plt.ylabel('Accuracy')\n",
        "plt.xlabel('Epoch')\n",
        "plt.legend(['Train', 'Test'], loc='upper left')\n",
        "plt.show();"
      ]
    },
    {
      "cell_type": "code",
      "execution_count": null,
      "metadata": {
        "colab": {
          "base_uri": "https://localhost:8080/"
        },
        "id": "NVv_JmumxN-c",
        "outputId": "ccbb95ff-cb0f-449c-e194-8d6c1e28d201"
      },
      "outputs": [
        {
          "name": "stdout",
          "output_type": "stream",
          "text": [
            "5/5 [==============================] - 1s 108ms/step\n"
          ]
        },
        {
          "data": {
            "text/plain": [
              "array([[5.2305215e-05],\n",
              "       [4.2803562e-04],\n",
              "       [9.9997294e-01],\n",
              "       [1.3067230e-05],\n",
              "       [9.9998772e-01],\n",
              "       [9.9996984e-01],\n",
              "       [9.9969172e-01],\n",
              "       [9.9982411e-01],\n",
              "       [9.9995804e-01],\n",
              "       [3.7093730e-05],\n",
              "       [9.9991131e-01],\n",
              "       [9.9986899e-01],\n",
              "       [9.9994373e-01],\n",
              "       [9.9997401e-01],\n",
              "       [9.9998283e-01],\n",
              "       [2.1954144e-04],\n",
              "       [4.6399608e-04],\n",
              "       [2.3986378e-05],\n",
              "       [3.4013013e-03],\n",
              "       [1.1081524e-04],\n",
              "       [1.6184244e-04],\n",
              "       [9.9286415e-05],\n",
              "       [6.7653658e-04],\n",
              "       [8.7854779e-01],\n",
              "       [9.9974293e-01],\n",
              "       [1.0349830e-04],\n",
              "       [9.9998665e-01],\n",
              "       [9.9337727e-01],\n",
              "       [9.9976712e-01],\n",
              "       [9.9999893e-01],\n",
              "       [3.4715663e-04],\n",
              "       [9.9997830e-01],\n",
              "       [9.9998355e-01],\n",
              "       [1.1153192e-02],\n",
              "       [2.1770543e-04],\n",
              "       [9.9988985e-01],\n",
              "       [9.9315029e-01],\n",
              "       [9.9990952e-01],\n",
              "       [7.7974473e-05],\n",
              "       [1.1770598e-04],\n",
              "       [9.9696332e-01],\n",
              "       [1.6791576e-04],\n",
              "       [9.9946934e-01],\n",
              "       [9.9982101e-01],\n",
              "       [9.9962842e-01],\n",
              "       [9.9921954e-01],\n",
              "       [9.9949348e-01],\n",
              "       [9.9918598e-01],\n",
              "       [9.9942183e-01],\n",
              "       [9.9997485e-01],\n",
              "       [2.3644941e-04],\n",
              "       [7.2275987e-03],\n",
              "       [2.0927559e-03],\n",
              "       [5.5317846e-03],\n",
              "       [1.1107459e-02],\n",
              "       [9.9785304e-01],\n",
              "       [3.9336244e-03],\n",
              "       [2.8822261e-03],\n",
              "       [1.1322438e-03],\n",
              "       [2.2904628e-03],\n",
              "       [9.9481851e-01],\n",
              "       [7.1909360e-04],\n",
              "       [9.9998653e-01],\n",
              "       [6.8628513e-05],\n",
              "       [6.7462909e-01],\n",
              "       [9.9997449e-01],\n",
              "       [9.6924752e-02],\n",
              "       [9.9980801e-01],\n",
              "       [9.9991250e-01],\n",
              "       [9.6644086e-01],\n",
              "       [9.9993575e-01],\n",
              "       [6.2054052e-05],\n",
              "       [1.9794588e-03],\n",
              "       [7.5046718e-01],\n",
              "       [9.9999142e-01],\n",
              "       [1.4020329e-03],\n",
              "       [9.9999714e-01],\n",
              "       [1.1462025e-04],\n",
              "       [1.2102972e-03],\n",
              "       [1.4887516e-03],\n",
              "       [2.4369113e-02],\n",
              "       [2.9035775e-05],\n",
              "       [1.1537721e-04],\n",
              "       [9.3052778e-03],\n",
              "       [9.9993861e-01],\n",
              "       [9.9991024e-01],\n",
              "       [1.9471880e-04],\n",
              "       [7.2400697e-05],\n",
              "       [9.9967456e-01],\n",
              "       [3.8556354e-05],\n",
              "       [5.2002881e-04],\n",
              "       [9.9973315e-01],\n",
              "       [9.9818891e-01],\n",
              "       [2.4165567e-03],\n",
              "       [1.3383974e-04],\n",
              "       [4.4506288e-04],\n",
              "       [6.5199427e-05],\n",
              "       [9.9999118e-01],\n",
              "       [9.9883062e-01],\n",
              "       [9.9956924e-01],\n",
              "       [9.9906486e-01],\n",
              "       [9.9938858e-01],\n",
              "       [8.2923388e-01],\n",
              "       [9.9997199e-01],\n",
              "       [1.0689481e-02],\n",
              "       [1.7898477e-04],\n",
              "       [4.8111790e-04],\n",
              "       [7.0051919e-03],\n",
              "       [9.9999797e-01],\n",
              "       [2.6967909e-04],\n",
              "       [9.9961084e-01],\n",
              "       [5.9779515e-05],\n",
              "       [3.5817959e-04],\n",
              "       [9.9990320e-01],\n",
              "       [9.4936275e-01],\n",
              "       [9.9998403e-01],\n",
              "       [9.9999809e-01],\n",
              "       [9.9999917e-01],\n",
              "       [7.5870892e-05],\n",
              "       [2.3510939e-04],\n",
              "       [2.4919442e-05],\n",
              "       [7.8467740e-05],\n",
              "       [8.9631265e-01],\n",
              "       [9.9979514e-01],\n",
              "       [1.1860670e-03],\n",
              "       [9.9987721e-01],\n",
              "       [9.9999428e-01],\n",
              "       [9.9693584e-01],\n",
              "       [9.5903117e-05],\n",
              "       [9.6780837e-05],\n",
              "       [8.2317601e-05],\n",
              "       [9.6076306e-05],\n",
              "       [9.9996614e-01],\n",
              "       [9.9948525e-01],\n",
              "       [9.9837422e-01],\n",
              "       [3.2042258e-04],\n",
              "       [9.9989617e-01],\n",
              "       [9.9998844e-01],\n",
              "       [2.2509591e-04],\n",
              "       [9.9984300e-01]], dtype=float32)"
            ]
          },
          "execution_count": 32,
          "metadata": {},
          "output_type": "execute_result"
        }
      ],
      "source": [
        "#Predicting based on test data\n",
        "predictions = model.predict(X_test)\n",
        "predictions"
      ]
    },
    {
      "cell_type": "code",
      "execution_count": null,
      "metadata": {
        "colab": {
          "base_uri": "https://localhost:8080/"
        },
        "id": "9W13xnzRwuWc",
        "outputId": "3712075b-72b1-40c9-84b6-24e1714e44dd"
      },
      "outputs": [
        {
          "name": "stdout",
          "output_type": "stream",
          "text": [
            "5/5 [==============================] - 0s 52ms/step\n"
          ]
        }
      ],
      "source": [
        "#Convert the predictions to 0 & 1 to print the confiusion matrix\n",
        "predictions = model.predict(X_test)\n",
        "\n",
        "predict=[]\n",
        "\n",
        "for i in range(len(predictions)):\n",
        "    if predictions[i][0]>0.5:\n",
        "        predict.append(1)\n",
        "    else:\n",
        "        predict.append(0)"
      ]
    },
    {
      "cell_type": "code",
      "execution_count": null,
      "metadata": {
        "colab": {
          "base_uri": "https://localhost:8080/",
          "height": 140
        },
        "id": "ztBoISAAyDlt",
        "outputId": "97ce33ed-fc19-427d-ee38-b16312de2e43"
      },
      "outputs": [
        {
          "data": {
            "text/html": [
              "\n",
              "  <div id=\"df-dfb97b05-3eb9-46b6-ae49-73618404fb52\">\n",
              "    <div class=\"colab-df-container\">\n",
              "      <div>\n",
              "<style scoped>\n",
              "    .dataframe tbody tr th:only-of-type {\n",
              "        vertical-align: middle;\n",
              "    }\n",
              "\n",
              "    .dataframe tbody tr th {\n",
              "        vertical-align: top;\n",
              "    }\n",
              "\n",
              "    .dataframe thead th {\n",
              "        text-align: right;\n",
              "    }\n",
              "</style>\n",
              "<table border=\"1\" class=\"dataframe\">\n",
              "  <thead>\n",
              "    <tr style=\"text-align: right;\">\n",
              "      <th></th>\n",
              "      <th>No Mask</th>\n",
              "      <th>Mask</th>\n",
              "    </tr>\n",
              "  </thead>\n",
              "  <tbody>\n",
              "    <tr>\n",
              "      <th>No Mask</th>\n",
              "      <td>67</td>\n",
              "      <td>3</td>\n",
              "    </tr>\n",
              "    <tr>\n",
              "      <th>Mask</th>\n",
              "      <td>0</td>\n",
              "      <td>70</td>\n",
              "    </tr>\n",
              "  </tbody>\n",
              "</table>\n",
              "</div>\n",
              "      <button class=\"colab-df-convert\" onclick=\"convertToInteractive('df-dfb97b05-3eb9-46b6-ae49-73618404fb52')\"\n",
              "              title=\"Convert this dataframe to an interactive table.\"\n",
              "              style=\"display:none;\">\n",
              "        \n",
              "  <svg xmlns=\"http://www.w3.org/2000/svg\" height=\"24px\"viewBox=\"0 0 24 24\"\n",
              "       width=\"24px\">\n",
              "    <path d=\"M0 0h24v24H0V0z\" fill=\"none\"/>\n",
              "    <path d=\"M18.56 5.44l.94 2.06.94-2.06 2.06-.94-2.06-.94-.94-2.06-.94 2.06-2.06.94zm-11 1L8.5 8.5l.94-2.06 2.06-.94-2.06-.94L8.5 2.5l-.94 2.06-2.06.94zm10 10l.94 2.06.94-2.06 2.06-.94-2.06-.94-.94-2.06-.94 2.06-2.06.94z\"/><path d=\"M17.41 7.96l-1.37-1.37c-.4-.4-.92-.59-1.43-.59-.52 0-1.04.2-1.43.59L10.3 9.45l-7.72 7.72c-.78.78-.78 2.05 0 2.83L4 21.41c.39.39.9.59 1.41.59.51 0 1.02-.2 1.41-.59l7.78-7.78 2.81-2.81c.8-.78.8-2.07 0-2.86zM5.41 20L4 18.59l7.72-7.72 1.47 1.35L5.41 20z\"/>\n",
              "  </svg>\n",
              "      </button>\n",
              "      \n",
              "  <style>\n",
              "    .colab-df-container {\n",
              "      display:flex;\n",
              "      flex-wrap:wrap;\n",
              "      gap: 12px;\n",
              "    }\n",
              "\n",
              "    .colab-df-convert {\n",
              "      background-color: #E8F0FE;\n",
              "      border: none;\n",
              "      border-radius: 50%;\n",
              "      cursor: pointer;\n",
              "      display: none;\n",
              "      fill: #1967D2;\n",
              "      height: 32px;\n",
              "      padding: 0 0 0 0;\n",
              "      width: 32px;\n",
              "    }\n",
              "\n",
              "    .colab-df-convert:hover {\n",
              "      background-color: #E2EBFA;\n",
              "      box-shadow: 0px 1px 2px rgba(60, 64, 67, 0.3), 0px 1px 3px 1px rgba(60, 64, 67, 0.15);\n",
              "      fill: #174EA6;\n",
              "    }\n",
              "\n",
              "    [theme=dark] .colab-df-convert {\n",
              "      background-color: #3B4455;\n",
              "      fill: #D2E3FC;\n",
              "    }\n",
              "\n",
              "    [theme=dark] .colab-df-convert:hover {\n",
              "      background-color: #434B5C;\n",
              "      box-shadow: 0px 1px 3px 1px rgba(0, 0, 0, 0.15);\n",
              "      filter: drop-shadow(0px 1px 2px rgba(0, 0, 0, 0.3));\n",
              "      fill: #FFFFFF;\n",
              "    }\n",
              "  </style>\n",
              "\n",
              "      <script>\n",
              "        const buttonEl =\n",
              "          document.querySelector('#df-dfb97b05-3eb9-46b6-ae49-73618404fb52 button.colab-df-convert');\n",
              "        buttonEl.style.display =\n",
              "          google.colab.kernel.accessAllowed ? 'block' : 'none';\n",
              "\n",
              "        async function convertToInteractive(key) {\n",
              "          const element = document.querySelector('#df-dfb97b05-3eb9-46b6-ae49-73618404fb52');\n",
              "          const dataTable =\n",
              "            await google.colab.kernel.invokeFunction('convertToInteractive',\n",
              "                                                     [key], {});\n",
              "          if (!dataTable) return;\n",
              "\n",
              "          const docLinkHtml = 'Like what you see? Visit the ' +\n",
              "            '<a target=\"_blank\" href=https://colab.research.google.com/notebooks/data_table.ipynb>data table notebook</a>'\n",
              "            + ' to learn more about interactive tables.';\n",
              "          element.innerHTML = '';\n",
              "          dataTable['output_type'] = 'display_data';\n",
              "          await google.colab.output.renderOutput(dataTable, element);\n",
              "          const docLink = document.createElement('div');\n",
              "          docLink.innerHTML = docLinkHtml;\n",
              "          element.appendChild(docLink);\n",
              "        }\n",
              "      </script>\n",
              "    </div>\n",
              "  </div>\n",
              "  "
            ],
            "text/plain": [
              "         No Mask  Mask\n",
              "No Mask       67     3\n",
              "Mask           0    70"
            ]
          },
          "execution_count": 34,
          "metadata": {},
          "output_type": "execute_result"
        }
      ],
      "source": [
        "pd.DataFrame(confusion_matrix(y_test, predict), columns= [\"No Mask\", \"Mask\"], index = [\"No Mask\", \"Mask\"])"
      ]
    },
    {
      "cell_type": "markdown",
      "source": [
        "# Save the trained model"
      ],
      "metadata": {
        "id": "BukR_gfDms0Z"
      }
    },
    {
      "cell_type": "code",
      "execution_count": null,
      "metadata": {
        "id": "jf6GfWGIyFwM"
      },
      "outputs": [],
      "source": [
        "#Save the model\n",
        "model_name = \"/content/mask_detection.h5\"\n",
        "tf.keras.models.save_model(model, model_name)"
      ]
    },
    {
      "cell_type": "markdown",
      "metadata": {
        "id": "0qklSVJH3Thb"
      },
      "source": [
        "# Part 2"
      ]
    },
    {
      "cell_type": "markdown",
      "metadata": {
        "id": "4wNEYrmC2jcM"
      },
      "source": [
        "**Using our saved model & haar-cascade classifier to build the detection system, via video or real time camera**"
      ]
    },
    {
      "cell_type": "code",
      "execution_count": null,
      "metadata": {
        "id": "9b7_BA173XIY"
      },
      "outputs": [],
      "source": [
        "import cv2\n",
        "import os\n",
        "import tensorflow as tf\n",
        "from tensorflow.keras.preprocessing.image import img_to_array\n",
        "from tensorflow.keras.models import load_model\n",
        "from tensorflow.keras.applications.mobilenet_v2 import preprocess_input\n",
        "import numpy as np\n",
        "\n",
        "%config Completer.use_jedi = False"
      ]
    },
    {
      "cell_type": "markdown",
      "source": [
        "# Uploading the Haar Cascade classifier & the pre-trained model"
      ],
      "metadata": {
        "id": "v0QUTZN8m5_I"
      }
    },
    {
      "cell_type": "code",
      "execution_count": null,
      "metadata": {
        "id": "PuyIWKob3swE"
      },
      "outputs": [],
      "source": [
        "face_classifier = cv2.CascadeClassifier(cv2.data.haarcascades + \"haarcascade_frontalface_default.xml\")\n",
        "mask_detection = tf.keras.models.load_model(\"/content/mask_detection.h5\")"
      ]
    },
    {
      "cell_type": "code",
      "execution_count": null,
      "metadata": {
        "id": "NoFNywwS3wm0"
      },
      "outputs": [],
      "source": [
        "text_mask = \"Mask On\"\n",
        "text_no_mask = \"Mask Off\"\n",
        "font = cv2.FONT_HERSHEY_SIMPLEX\n",
        "scale = 0.8"
      ]
    },
    {
      "cell_type": "code",
      "execution_count": null,
      "metadata": {
        "id": "h8bP4gdg4MWr"
      },
      "outputs": [],
      "source": [
        "#We create a function that transforms the images\n",
        "def predict(image):\n",
        "    \n",
        "    face_frame = cv2.cvtColor(image, cv2.COLOR_BGR2RGB)\n",
        "    face_frame = cv2.resize(face_frame, (224, 224))\n",
        "    face_frame = img_to_array(face_frame)\n",
        "    face_frame = np.expand_dims(face_frame, axis=0)\n",
        "    face_frame =  preprocess_input(face_frame)\n",
        "    prediction = mask_detection.predict(face_frame)\n",
        "    \n",
        "    return prediction[0][0]"
      ]
    },
    {
      "cell_type": "code",
      "execution_count": null,
      "metadata": {
        "id": "M1XQay2643TM"
      },
      "outputs": [],
      "source": [
        "def detector(gray_image, frame):\n",
        "    \n",
        "    faces = face_classifier.detectMultiScale(gray_image, 1.1, 5)\n",
        "    \n",
        "    for (x,y,w,h) in faces:\n",
        "\n",
        "        roi_color = frame[y:y+h, x:x+w]\n",
        "        mask = predict(roi_color)\n",
        "\n",
        "        \n",
        "        if mask > 0.5:\n",
        "            cv2.rectangle(frame, (x, y), (x+w, y+h), (0,255,0), 2)\n",
        "            cv2.putText(frame, text =text_mask, org =(x+50,y-100), fontFace =font, fontScale = scale, color =(0,255,0),\n",
        "            thickness = 2)\n",
        "        \n",
        "        elif mask<=0.5:\n",
        "            cv2.rectangle(frame, (x, y), (x+w, y+h), (0,0,255), 2)\n",
        "            cv2.putText(frame, text =text_no_mask, org =(x+50,y-100), fontFace =font, fontScale = scale , color =(0,0,255),\n",
        "            thickness = 2)\n",
        "            \n",
        "    return frame"
      ]
    },
    {
      "cell_type": "markdown",
      "source": [
        "# Run the detection system using video or camera"
      ],
      "metadata": {
        "id": "X5v-aJX1nXzE"
      }
    },
    {
      "cell_type": "code",
      "source": [
        "#To detect face masks using a video\n",
        "%matplotlib inline\n",
        "video_cap = cv2.VideoCapture('video1.mp4')\n",
        "\n",
        "while True:\n",
        "    \n",
        "    ret, frame = video_cap.read()\n",
        "    gray_frame = cv2.cvtColor(frame, cv2.COLOR_BGR2GRAY)\n",
        "\n",
        "    detect = detector(gray_frame, frame)\n",
        "    \n",
        "    cv2.imshow(\"Video\", detect)\n",
        "    \n",
        "    \n",
        "    if cv2.waitKey(1) & 0xFF == ord(\"q\"):\n",
        "        break\n",
        "        \n",
        "video_cap.release()\n",
        "cv2.destroyAllWindows()"
      ],
      "metadata": {
        "id": "j4lmNQOllX-i"
      },
      "execution_count": null,
      "outputs": []
    },
    {
      "cell_type": "code",
      "source": [
        "#Our detection model is more robust using the camera\n",
        "#To detect face masks using the camera\n",
        "%matplotlib inline\n",
        "video_cap = cv2.VideoCapture(0)\n",
        "\n",
        "while True:\n",
        "    \n",
        "    ret, frame = video_cap.read()\n",
        "    gray_frame = cv2.cvtColor(frame, cv2.COLOR_BGR2GRAY)\n",
        "\n",
        "    detect = detector(gray_frame, frame)\n",
        "    \n",
        "    cv2.imshow(\"Video\", detect)\n",
        "    \n",
        "    \n",
        "    if cv2.waitKey(1) & 0xFF == ord(\"q\"):\n",
        "        break\n",
        "        \n",
        "video_cap.release()\n",
        "cv2.destroyAllWindows()"
      ],
      "metadata": {
        "id": "m1xzFJ2gldXy"
      },
      "execution_count": null,
      "outputs": []
    },
    {
      "cell_type": "markdown",
      "source": [
        "# Real-world application"
      ],
      "metadata": {
        "id": "MDht2FEEoIdl"
      }
    },
    {
      "cell_type": "markdown",
      "source": [
        "**Real-world application for our detection system**"
      ],
      "metadata": {
        "id": "WTyZEA0soFK2"
      }
    },
    {
      "cell_type": "markdown",
      "source": [
        "Recently and after the spreading of COVID-19 worldwide Lockdowns happened due to the COVID-19 outbreak, Face masks became mandatory for everyone while roaming outside. Using Computer vision to detect whether a person is wearing a mask or not. can help to keep him safe and everybody in the place. and in our crowded world having something like COVID-19 again is expected.  "
      ],
      "metadata": {
        "id": "PeqicbUKoLB1"
      }
    }
  ],
  "metadata": {
    "accelerator": "GPU",
    "colab": {
      "collapsed_sections": [
        "0qklSVJH3Thb"
      ],
      "provenance": []
    },
    "gpuClass": "standard",
    "kernelspec": {
      "display_name": "Python 3",
      "name": "python3"
    },
    "language_info": {
      "name": "python"
    }
  },
  "nbformat": 4,
  "nbformat_minor": 0
}